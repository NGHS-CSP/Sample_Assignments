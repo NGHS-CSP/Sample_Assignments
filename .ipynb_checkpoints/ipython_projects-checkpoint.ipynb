{
 "cells": [
  {
   "cell_type": "markdown",
   "metadata": {},
   "source": [
    "# Python-Final\n",
    "\n",
    "Create a 'pokemon' turn base game where you have 2 characters that are fighting against each other. Your game should include character selection, an automated computer component, an ability to select between different attack or healing options every turn, and a game that automatically ends when one of the player's health points drops down to or below 0. Additional challenges include, including different types of monsters (fire, water, earth) where certain types are more effective/less effective against other types (i.e. water monster attacks are 15% more effective against fire monsters), having a team of monsters fight against another team of monsters, create a multiplayer mode where you can play against a second person."
   ]
  },
  {
   "cell_type": "code",
   "execution_count": 1,
   "metadata": {
    "collapsed": false
   },
   "outputs": [],
   "source": [
    "from __future__ import print_function\n",
    "from random import randint\n",
    "\n",
    "def  python_game():\n",
    "    hp1 = 100\n",
    "    hp2 = 100\n",
    "    \n",
    "    round_number = 1\n",
    "    while hp1 >0 and hp2>0 :\n",
    "        if randint >30:\n",
    "            attack_successp1 = 1\n",
    "        else:\n",
    "            attack_successp1 = 0\n",
    "            \n",
    "        if attack_successp1 == 1:\n",
    "            hp2 += randint(1,30)*-1\n",
    "            \n",
    "        if randint >30:\n",
    "            attack_successp2 = 1\n",
    "        else:\n",
    "            attack_successp2 = 0\n",
    "            \n",
    "        if attack_successp2 == 1:\n",
    "            hp1 += randint(1,30)*-1\n",
    "        message = 'Round' + str(round_number) + \": Player 1 Health is \"+ str(hp1) +\" and Player 2 Health is \"+ str(hp2)\n",
    "        print(message)\n",
    "        round_number +=1\n",
    "        \n",
    "    if hp1 <= 0 & hp2 <=0:\n",
    "        print (\"Both players are dead\")\n",
    "    elif hp1>hp2:\n",
    "        print (\"Player 1 wins!\")\n",
    "    elif hp2>hp1:\n",
    "        print (\"Player 2 wins!\")"
   ]
  },
  {
   "cell_type": "code",
   "execution_count": 92,
   "metadata": {
    "collapsed": false
   },
   "outputs": [
    {
     "name": "stdout",
     "output_type": "stream",
     "text": [
      "Round1: Player 1 Health is 72 and Player 2 Health is 89\n",
      "Round2: Player 1 Health is 57 and Player 2 Health is 70\n",
      "Round3: Player 1 Health is 50 and Player 2 Health is 45\n",
      "Round4: Player 1 Health is 41 and Player 2 Health is 31\n",
      "Round5: Player 1 Health is 36 and Player 2 Health is 14\n",
      "Round6: Player 1 Health is 25 and Player 2 Health is 10\n",
      "Round7: Player 1 Health is 14 and Player 2 Health is -12\n",
      "Player 1 wins!\n"
     ]
    }
   ],
   "source": [
    "python_game()\n"
   ]
  },
  {
   "cell_type": "code",
   "execution_count": null,
   "metadata": {
    "collapsed": true
   },
   "outputs": [],
   "source": [
    "In the code blocks below please make your changes to the above starter program. Make sure to include appropriate documentation."
   ]
  },
  {
   "cell_type": "code",
   "execution_count": null,
   "metadata": {
    "collapsed": true
   },
   "outputs": [],
   "source": []
  },
  {
   "cell_type": "code",
   "execution_count": null,
   "metadata": {
    "collapsed": true
   },
   "outputs": [],
   "source": []
  },
  {
   "cell_type": "code",
   "execution_count": null,
   "metadata": {
    "collapsed": true
   },
   "outputs": [],
   "source": []
  },
  {
   "cell_type": "code",
   "execution_count": null,
   "metadata": {
    "collapsed": true
   },
   "outputs": [],
   "source": []
  },
  {
   "cell_type": "code",
   "execution_count": null,
   "metadata": {
    "collapsed": true
   },
   "outputs": [],
   "source": []
  }
 ],
 "metadata": {
  "celltoolbar": "Exercise",
  "kernelspec": {
   "display_name": "Python 2",
   "language": "python",
   "name": "python2"
  },
  "language_info": {
   "codemirror_mode": {
    "name": "ipython",
    "version": 2
   },
   "file_extension": ".py",
   "mimetype": "text/x-python",
   "name": "python",
   "nbconvert_exporter": "python",
   "pygments_lexer": "ipython2",
   "version": "2.7.11"
  }
 },
 "nbformat": 4,
 "nbformat_minor": 0
}
